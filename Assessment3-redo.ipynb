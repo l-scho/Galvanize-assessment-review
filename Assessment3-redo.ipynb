{
 "cells": [
  {
   "cell_type": "code",
   "execution_count": 1,
   "metadata": {},
   "outputs": [],
   "source": [
    "def divisible_by(arr, int1, int2):\n",
    "    '''Returns an array of the integers in arr that are divisible without\n",
    "    remainder by both int1 and int2.\n",
    "\n",
    "    Parameters\n",
    "    ----------\n",
    "    arr: NumPy array\n",
    "    int1, int2: int, int\n",
    "\n",
    "    Returns\n",
    "    -------\n",
    "    NumPy array\n",
    "\n",
    "    >>>divisible_by(np.array([0, 24, 3, 12, 18, 17]), 3, 4)\n",
    "    np.array([0, 24, 12])\n",
    "    '''\n",
    "    div_arr = []\n",
    "    \n",
    "    for i in arr:\n",
    "        if i%int1 == 0 and i%int2 == 0:\n",
    "            div_arr.append(i)\n",
    "   \n",
    "    return div_arr"
   ]
  },
  {
   "cell_type": "code",
   "execution_count": 2,
   "metadata": {},
   "outputs": [
    {
     "ename": "SyntaxError",
     "evalue": "invalid syntax (<ipython-input-2-370a603fb8f9>, line 28)",
     "output_type": "error",
     "traceback": [
      "\u001b[0;36m  File \u001b[0;32m\"<ipython-input-2-370a603fb8f9>\"\u001b[0;36m, line \u001b[0;32m28\u001b[0m\n\u001b[0;31m    for j in range(0, n-i-1)\u001b[0m\n\u001b[0m                            ^\u001b[0m\n\u001b[0;31mSyntaxError\u001b[0m\u001b[0;31m:\u001b[0m invalid syntax\n"
     ]
    }
   ],
   "source": [
    "def bubble_sort(arr):\n",
    "    '''Implements the bubble sort algorithm. However, upon on each swap,\n",
    "    append the new list as the next \"row\" in a list containing all the\n",
    "    swaps. The original list should be the first row in the list detailing\n",
    "    the swaps.\n",
    "\n",
    "    Parameters\n",
    "    ----------\n",
    "    arr: list\n",
    "\n",
    "    Returns\n",
    "    -------\n",
    "    list of lists\n",
    "\n",
    "    >>>bubble_sort([7, 4, 2, 5])\n",
    "    [[7, 4, 2, 5],\n",
    "     [4, 7, 2, 5],\n",
    "     [4, 2, 7, 5],\n",
    "     [4, 2, 5, 7],\n",
    "     [2, 4, 5, 7]]\n",
    "\n",
    "    '''\n",
    "    \n",
    "    bubble_matrix = []\n",
    "    bubble_matrix.append(arr.copy())\n",
    "    \n",
    "    for i in range(n):\n",
    "        for j in range(0, n-i-1)\n",
    "            if arr[j] > arr[j+1]:\n",
    "                arr[j], arr[j+1] = arr[j+1], arr[j]\n",
    "                bubble_matrix =\n",
    "    \n",
    "    return bubble_matrix"
   ]
  },
  {
   "cell_type": "markdown",
   "metadata": {},
   "source": [
    "Given a table named universities which contains university data with these columns: name, address, Website, Type, Size. Return a SQL query that gives each type and the average size of each university of that type in ascending order.\n",
    "\n",
    "Note: You only need to type the SQL query. It does not need to be in quotation marks"
   ]
  },
  {
   "cell_type": "markdown",
   "metadata": {},
   "source": [
    "-- Write your query here. Some clauses are provided to get you started.\n",
    "SELECT Type, AVG(Size) as avg_size\n",
    "FROM universities\n",
    "-- JOIN\n",
    "-- ON\n",
    "-- WHERE\n",
    "GROUP BY Type\n",
    "-- HAVING\n",
    "ORDER BY avg_size;\n",
    "-- LIMIT\n",
    ";"
   ]
  },
  {
   "cell_type": "markdown",
   "metadata": {},
   "source": [
    "Return a SQL statement which gives the states and a count of the number of markets for each state which take WIC or WICcash."
   ]
  },
  {
   "cell_type": "markdown",
   "metadata": {},
   "source": [
    "-- Write your query here. Some clauses are provided to get you started.\n",
    "SELECT state, COUNT(1))\n",
    "FROM farmersmarkets  \n",
    "WHERE WIC = 'Y' OR WICcash = 'Y'\n",
    "GROUP BY state;\n",
    "-- HAVING\n",
    "-- ORDER BY\n",
    "-- LIMIT\n",
    ";"
   ]
  },
  {
   "cell_type": "markdown",
   "metadata": {},
   "source": [
    "Your employer sells disposable razors online. After analyzing a survey, the marketing team proposes giving a coupon for a free case of razors to every household that purchased razors from a competitor. Because customers must redeem coupons and make purchases using a registered account, your company will be able to determine if coupon recipients subsequently buy a case of razors. These customers will be considered 'converted' for the purposes of business analyses.\n",
    "\n",
    "Your business development team within the company has identified three types of customers: Loyal, Fickle, and Indifferent. The CEO wants to build a stable revenue stream and prioritizes converting Loyal customers. The CEO asks you to analyze the marketing team's proposed campaign.\n",
    "\n",
    "Your team's pie chart indicates that 50% of customers are Loyal, 25% are Fickle, and the remaining 25% are Indifferent.\n",
    "There is a 5% chance that a Loyal customer will be converted by receiving a coupon.\n",
    "There is a 50% chance that a Fickle customer will be converted by receiving a coupon.\n",
    "There is only a 20% chance that an Indifferent customer will be converted by a coupon.\n",
    "What's the probability that a converted customer is Loyal?"
   ]
  },
  {
   "cell_type": "markdown",
   "metadata": {},
   "source": [
    "This is bayes theorem. I reworded it to be \"What is the probability that a customer is Loyal given they are converted.\"\n",
    "\n",
    "P(L|C) = ( P(C|L) * P(L) ) / P(C)   -> The probability that they are converted is the unknown.\n",
    "\n",
    "P(C) = P(C|F) * P(F) + P(C|I) * P(I) + P(C|L) * P(L) = 0.2\n",
    "\n",
    "P(L|C) = (0.05 * 0.5) / 0.2 = 0.125\n"
   ]
  },
  {
   "cell_type": "markdown",
   "metadata": {},
   "source": [
    "a) In terms of organization of the data in the database, how are Mongo and SQL different? (2 pts)\n",
    "\n",
    "b) Give an example of data that is likely better handled by Mongo than SQL. (1 pt)"
   ]
  },
  {
   "cell_type": "markdown",
   "metadata": {},
   "source": [
    "a) SQL is much more structured than Mongo. Mongo is used to save unstructured data. SQL is relational and has a defined schema. Mongo is non-relational and the data is \n",
    "\n",
    "b) web pages are an example of data that has changing structure and so is better handled by Mongo\n"
   ]
  },
  {
   "cell_type": "markdown",
   "metadata": {},
   "source": [
    "What is Lazy Evaluation in Spark and why does it occur?"
   ]
  },
  {
   "cell_type": "markdown",
   "metadata": {},
   "source": [
    "Spark only calls a transformation after it calls an action. This is because it is building the DAG. Once you call an action, it executes the DAG. Transformations only build, no processing is done. Spark can make optimization decisions with the completed DAG."
   ]
  },
  {
   "cell_type": "markdown",
   "metadata": {},
   "source": [
    "What is an RDD in Spark? How is a Spark Dataframe different?"
   ]
  },
  {
   "cell_type": "markdown",
   "metadata": {},
   "source": [
    "An RDD stands for Resilient Distributed Datasets and it is an immutable distributed collection of objects. It performs in m\n",
    "\n",
    "A Spark Dataframe allows you to create structure onto the distributed data. They are faster than RDDs and have a schema. "
   ]
  },
  {
   "cell_type": "markdown",
   "metadata": {},
   "source": [
    "What is Big Data?"
   ]
  },
  {
   "cell_type": "markdown",
   "metadata": {},
   "source": [
    "Big Data is just when you have data big enough to need more than one computer to store it. It has high volume, velocity and variety. "
   ]
  },
  {
   "cell_type": "markdown",
   "metadata": {},
   "source": [
    "In Big O notation, what is the algorithmic complexity for the following functions (1pt each):\n",
    "\n",
    "a)\n",
    "\n",
    "def f(n):\n",
    "    i = 0\n",
    "    while i < n:\n",
    "        j = 0\n",
    "        while j < n:\n",
    "            print(str(i) + \", \" + str(j))\n",
    "            j += 1\n",
    "        i += 1\n",
    "b)\n",
    "\n",
    "def f(n):\n",
    "    i = 1\n",
    "    while i < n:\n",
    "        i *= 2\n",
    "        print(i)\n",
    "c)\n",
    "\n",
    "def do_something_else(n):\n",
    "    print(\"My name is Inigo Montoya\")"
   ]
  },
  {
   "cell_type": "markdown",
   "metadata": {},
   "source": [
    "a) It would be O(n*n) or O(n^2) because you multiply the O(n) of each while loop and all the other operations are just O(1).\n",
    "\n",
    "b) It would be O(logn) because you have a single while loop and i is going up exponentially \n",
    "\n",
    "c) It would just be O(1)."
   ]
  }
 ],
 "metadata": {
  "kernelspec": {
   "display_name": "Python 3",
   "language": "python",
   "name": "python3"
  },
  "language_info": {
   "codemirror_mode": {
    "name": "ipython",
    "version": 3
   },
   "file_extension": ".py",
   "mimetype": "text/x-python",
   "name": "python",
   "nbconvert_exporter": "python",
   "pygments_lexer": "ipython3",
   "version": "3.7.7"
  }
 },
 "nbformat": 4,
 "nbformat_minor": 4
}
