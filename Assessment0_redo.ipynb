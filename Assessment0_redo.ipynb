{
 "cells": [
  {
   "cell_type": "code",
   "execution_count": 1,
   "metadata": {},
   "outputs": [],
   "source": [
    "def fizz_buzz():\n",
    "\n",
    "    lst = []\n",
    "\n",
    "    for elem in range(1,101):\n",
    "        if elem % 3 == 0 and elem % 5 == 0:\n",
    "            lst.append(\"FizzBuzz\")\n",
    "        elif elem % 3 == 0:\n",
    "            lst.append(\"Fizz\")\n",
    "        elif elem % 5 == 0:\n",
    "            lst.append(\"Buzz\")\n",
    "        else:\n",
    "            lst.append(elem)\n",
    "\n",
    "    return lst"
   ]
  },
  {
   "cell_type": "code",
   "execution_count": 3,
   "metadata": {},
   "outputs": [],
   "source": [
    "#fizz_buzz()"
   ]
  },
  {
   "cell_type": "code",
   "execution_count": 5,
   "metadata": {},
   "outputs": [],
   "source": [
    "def count_characters(string):\n",
    "\n",
    "    d = {}\n",
    "\n",
    "    for key in string:\n",
    "        d[key] = d.get(key, 0) + 1\n",
    "\n",
    "    return d"
   ]
  },
  {
   "cell_type": "code",
   "execution_count": 7,
   "metadata": {},
   "outputs": [],
   "source": [
    "#count_characters(\"Mississippi\")"
   ]
  },
  {
   "cell_type": "code",
   "execution_count": 8,
   "metadata": {},
   "outputs": [],
   "source": [
    "def merge_dictionaries(d1, d2):\n",
    "\n",
    "    d = {}\n",
    "\n",
    "    for key in d1:\n",
    "        if key in d2:\n",
    "            d[key] = d1[key] + d2[key]\n",
    "        else:\n",
    "            d[key] = d1[key]\n",
    "\n",
    "    for key in d2:\n",
    "        if key not in d:\n",
    "            d[key] = d2[key]\n",
    "    return d"
   ]
  },
  {
   "cell_type": "code",
   "execution_count": 10,
   "metadata": {},
   "outputs": [],
   "source": [
    "# d1 = {\"dog\": 3, \"cat\": 2, \"moose\": 12}\n",
    "# d2 = {\"rabbit\": 5, \"deer\": 4, \"moose\": 1, \"chipmonk\": 2}\n",
    "\n",
    "# merge_dictionaries(d1,d2)"
   ]
  },
  {
   "cell_type": "code",
   "execution_count": 11,
   "metadata": {},
   "outputs": [],
   "source": [
    "def cookie_jar(a,b):\n",
    "\n",
    "    probability = a / (a+b) #the percentage of the whole\n",
    "\n",
    "    return probability"
   ]
  },
  {
   "cell_type": "code",
   "execution_count": 13,
   "metadata": {},
   "outputs": [],
   "source": [
    "#cookie_jar(0.7, 0.2)"
   ]
  },
  {
   "cell_type": "code",
   "execution_count": 16,
   "metadata": {},
   "outputs": [],
   "source": [
    "import numpy as np"
   ]
  },
  {
   "cell_type": "code",
   "execution_count": 17,
   "metadata": {},
   "outputs": [],
   "source": [
    "def boolean_indexing(arr, minimum):\n",
    "\n",
    "    original = np.array(arr)\n",
    "\n",
    "    return original[original >= minimum]"
   ]
  },
  {
   "cell_type": "code",
   "execution_count": 19,
   "metadata": {},
   "outputs": [],
   "source": [
    "#boolean_indexing([2,5,7,20,33, 15, 72], 5)"
   ]
  },
  {
   "cell_type": "code",
   "execution_count": 20,
   "metadata": {},
   "outputs": [],
   "source": [
    "def size_of_multiply(a, b):\n",
    "\n",
    "    if np.shape(a)[1] == np.shape(b)[0]: \n",
    "        return np.shape(a)[0], np.shape(b)[1]\n",
    "\n",
    "    return None"
   ]
  },
  {
   "cell_type": "code",
   "execution_count": 22,
   "metadata": {},
   "outputs": [],
   "source": [
    "#size_of_multiply([[1,2,3,4],[5,6,7,8]], [[1,2], [3,4], [5,6], [7,8]])"
   ]
  },
  {
   "cell_type": "code",
   "execution_count": 23,
   "metadata": {},
   "outputs": [],
   "source": [
    "import pandas as pd"
   ]
  },
  {
   "cell_type": "code",
   "execution_count": 24,
   "metadata": {},
   "outputs": [],
   "source": [
    "def data_frame_work(df, colA, colB, colC):\n",
    "\n",
    "    sum_col = df[colA] + df[colB]\n",
    "    df[colC] = sum_col\n",
    "\n",
    "    return None"
   ]
  },
  {
   "cell_type": "code",
   "execution_count": null,
   "metadata": {},
   "outputs": [],
   "source": []
  }
 ],
 "metadata": {
  "kernelspec": {
   "display_name": "Python 3",
   "language": "python",
   "name": "python3"
  },
  "language_info": {
   "codemirror_mode": {
    "name": "ipython",
    "version": 3
   },
   "file_extension": ".py",
   "mimetype": "text/x-python",
   "name": "python",
   "nbconvert_exporter": "python",
   "pygments_lexer": "ipython3",
   "version": "3.7.7"
  }
 },
 "nbformat": 4,
 "nbformat_minor": 4
}
