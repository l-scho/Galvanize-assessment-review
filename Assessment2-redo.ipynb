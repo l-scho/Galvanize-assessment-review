{
 "cells": [
  {
   "cell_type": "code",
   "execution_count": 11,
   "metadata": {},
   "outputs": [],
   "source": [
    "import random\n",
    "\n",
    "def roll_the_dice(n_simulations = 1000):\n",
    "    '''Two unbiased, six sided, dice are thrown one time and the sum of the\n",
    "    faces is observed (so if you rolled a 3 and a 1, the sum is 4). A\n",
    "    simulation estimates probability that the total score is an even number\n",
    "    or a number greater than 7.  This is an estimated probability, based on\n",
    "    rolling the two dice n_simulations times.\n",
    "\n",
    "    FOR FULL POINTS, THE FUNCTION MUST PERFORM A SIMULATION.\n",
    "\n",
    "    Parameters\n",
    "    ----------\n",
    "    n_simulations: float\n",
    "        Number of rolls of the dice\n",
    "\n",
    "    Returns\n",
    "    -------\n",
    "    float\n",
    "    '''\n",
    "    \n",
    "    for i in range(n_simulations):\n",
    "           \n",
    "        die1 = random.randint(1,6+1)\n",
    "        die2 = random.randint(1,6+1)\n",
    "        die_sum = die1 + die2\n",
    "    \n",
    "        count = 0\n",
    "        if die_sum%2 == 0 or die_sum > 7:\n",
    "            count += 1\n",
    "        \n",
    "        probability = float(count / n_simulations)\n",
    "    \n",
    "    return probability"
   ]
  },
  {
   "cell_type": "code",
   "execution_count": 12,
   "metadata": {},
   "outputs": [
    {
     "data": {
      "text/plain": [
       "0.001"
      ]
     },
     "execution_count": 12,
     "metadata": {},
     "output_type": "execute_result"
    }
   ],
   "source": [
    "roll_the_dice(1000)"
   ]
  },
  {
   "cell_type": "code",
   "execution_count": 14,
   "metadata": {},
   "outputs": [],
   "source": [
    "import scipy.stats as stats\n",
    "\n",
    "def calculate_t_test(sample1, sample2, type_I_error_rate):\n",
    "    '''Evaluates whether the two samples come from a population with the same\n",
    "    population mean.  Returns a tuple containing the p-value for\n",
    "    the pair of samples and True or False depending if the p-value is\n",
    "    considered significant at the provided Type I Error Rate (i.e. false\n",
    "    positive rate, i.e. alpha).\n",
    "\n",
    "    You may use imports for this question.\n",
    "\n",
    "    Parameters\n",
    "    ----------\n",
    "    sample1, sample2: NumPy array, NumPy array\n",
    "    type_I_error_rate: float\n",
    "\n",
    "    Returns\n",
    "    -------\n",
    "    float, boolean\n",
    "    '''\n",
    "    p_val = stats.ttest_ind(sample1, sample2)\n",
    "    \n",
    "    if p_val < type_I_error_rate:\n",
    "        significant = True\n",
    "    \n",
    "    return p_val, significant"
   ]
  },
  {
   "cell_type": "code",
   "execution_count": 51,
   "metadata": {},
   "outputs": [],
   "source": [
    "import numpy as np\n",
    "\n",
    "def add_column(arr, col):\n",
    "    '''Return a numpy array containing arr with col added as a final column.\n",
    "    You can assume that the number of rows in arr is the same as the length\n",
    "    of col.\n",
    "\n",
    "    FOR FULL POINTS DON'T USE LOOPS OR LIST COMPREHENSIONS.\n",
    "\n",
    "    Parameters\n",
    "    ----------\n",
    "    arr: NumPy Array (2-dimensional)\n",
    "    col: NumPy array\n",
    "\n",
    "    Returns\n",
    "    -------\n",
    "    NumPy Array (2-dimensional)\n",
    "\n",
    "    >>>add_column(np.array([[1, 2], [3, 4]]), np.array([5, 6)))\n",
    "    np.array([[1, 2, 5], [3, 4, 6]])\n",
    "    '''\n",
    "    new_arr = np.concatenate((arr, col.T), axis=1)\n",
    "    return new_arr"
   ]
  },
  {
   "cell_type": "code",
   "execution_count": 53,
   "metadata": {},
   "outputs": [],
   "source": [
    "#add_column(np.array([[1,2],[3,4]]), np.array([[5,6]]))"
   ]
  },
  {
   "cell_type": "code",
   "execution_count": 58,
   "metadata": {},
   "outputs": [],
   "source": [
    "def only_positive(arr):\n",
    "    '''Return a numpy array containing only the rows from arr where all\n",
    "    the values in that row are positive.\n",
    "\n",
    "    FOR FULL POINTS USE NUMPY METHODS AND NO LOOPS OR LIST COMPREHENSIONS.\n",
    "\n",
    "    Parameters\n",
    "    ----------\n",
    "    arr: NumPy Array (2-dimensional)\n",
    "\n",
    "    Returns\n",
    "    -------\n",
    "    NumPy Array (2-dimensional)\n",
    "\n",
    "    >>>np.array([[1, -1, 2],\n",
    "                    [3, 4, 2],\n",
    "                    [-8, 4, -4]])\n",
    "    np.array([[3, 4, 2]])\n",
    "    '''\n",
    "    \n",
    "    pos_arr = arr[np.min(arr, 1) > 0]\n",
    "    \n",
    "    return pos_arr"
   ]
  },
  {
   "cell_type": "code",
   "execution_count": 59,
   "metadata": {},
   "outputs": [],
   "source": [
    "# only_positive([[1, -1, 2],\n",
    "#                     [3, 4, 2],\n",
    "#                     [-8, 4, -4]])"
   ]
  },
  {
   "cell_type": "code",
   "execution_count": 61,
   "metadata": {},
   "outputs": [],
   "source": [
    "def df_to_numpy(df, y_column):\n",
    "    '''Convert the column defined y_column into a NumPy array (y) and\n",
    "    convert the rest of df into a 2 dimensional NumPy array (X).\n",
    "    Returns (X, y).\n",
    "\n",
    "    Parameters\n",
    "    ----------\n",
    "    df: Pandas DataFrame\n",
    "    y_column: string\n",
    "\n",
    "    Returns\n",
    "    -------\n",
    "    NumPy array, NumPy array\n",
    "\n",
    "    Example\n",
    "    -------\n",
    "    >>> df = pd.DataFrame([[1,3,5],[2,4,6]], columns = ['a','b','c'])\n",
    "    >>> df_to_numpy(df, 'c')\n",
    "    np.array([[1, 3], [2, 4]]), np.array([5, 6])\n",
    "    '''\n",
    "    \n",
    "    arr1 = df.drop(y_column, axis=1)\n",
    "    arr2 = df[y_column]\n",
    "\n",
    "    return arr1.values, arr2.values\n",
    "    "
   ]
  },
  {
   "cell_type": "code",
   "execution_count": 63,
   "metadata": {},
   "outputs": [],
   "source": [
    "# df_to_numpy([[1,3,5],[2,4,6]], 'c')"
   ]
  },
  {
   "cell_type": "code",
   "execution_count": 15,
   "metadata": {},
   "outputs": [],
   "source": [
    "def pandas_query(df):\n",
    "    '''Returns a DataFrame containing the average size of each university\n",
    "    type ordered by average size in ascending order.\n",
    "\n",
    "    Function assumes the input DataFrame contains these columns:\n",
    "        name, address, Website, Type, Size\n",
    "\n",
    "    Parameters\n",
    "    ----------\n",
    "    df: Pandas DataFrame\n",
    "\n",
    "    Returns\n",
    "    -------\n",
    "    Pandas DataFrame\n",
    "    '''\n",
    "    \n",
    "    df = groupby('Type')['Size'].mean().sort_values(by='Size')\n",
    "    \n",
    "    return df"
   ]
  },
  {
   "cell_type": "markdown",
   "metadata": {},
   "source": [
    "A coin is biased at 0.6 in favor of heads. What is the probability of flipping 8 or more heads in 10 flips of this coin?"
   ]
  },
  {
   "cell_type": "code",
   "execution_count": 10,
   "metadata": {},
   "outputs": [
    {
     "data": {
      "text/plain": [
       "0.16728975359999998"
      ]
     },
     "execution_count": 10,
     "metadata": {},
     "output_type": "execute_result"
    }
   ],
   "source": [
    "from scipy.stats import binom\n",
    "\n",
    "x = binom.pmf(8,10,0.6) + binom.pmf(9,10,0.6) + binom.pmf(10,10,0.6)\n",
    "x"
   ]
  },
  {
   "cell_type": "markdown",
   "metadata": {},
   "source": [
    "What is P(x=T | y=b)?"
   ]
  },
  {
   "cell_type": "code",
   "execution_count": 7,
   "metadata": {},
   "outputs": [
    {
     "data": {
      "text/plain": [
       "0.4"
      ]
     },
     "execution_count": 7,
     "metadata": {},
     "output_type": "execute_result"
    }
   ],
   "source": [
    "P = 0.1 / (0.1 + 0.15) \n",
    "P"
   ]
  },
  {
   "cell_type": "markdown",
   "metadata": {},
   "source": [
    "A particular hockey team has a long-standing record of 540 wins, 60 ties and 400 losses.\n",
    "\n",
    "In 65% of the games they won, they had a lead at the start of the second period.\n",
    "In 45% of the games they tied, they had a lead at the start of the second period.\n",
    "In 39% of the games they lost, they held a lead at the start of the second period.\n",
    "a) Knowing that they now have a lead at the start of the second period, what is the probability that they will win this game?\n",
    "\n",
    "After taking an intro probability class (and dozing off during part of it), the coach has come to the conclusion that a hockey game is essentially a bernoulli trial, with an outcome governed by a parameter p. Since p can be measured from the outcome of previous games, he has decided it doesn't matter what he does, so he benched his regular starters and is giving his less-experienced players more time on the ice.\n",
    "\n",
    "b) What error has the coach made?"
   ]
  },
  {
   "cell_type": "markdown",
   "metadata": {},
   "source": [
    "P(Win|Lead) = (P(Lead|Win) * P(Win)) / P(Lead) \n",
    "            = (0.65 * (540/(540+60+400)) / P(Lead) \n",
    "            = (0.65 * 0.54) / P(Lead)\n",
    "            = 0.692\n",
    "\n",
    "P(Lead) = P(Lead|Win) * P(Win) + P(Lead|Tie) * P(Tie) + P(Lead|Lose) * P(Lose) \n",
    "        = (0.6 * 0.54) + (0.45 * (60/1000)) + (0.39 * (400/1000)) \n",
    "        = 0.507\n",
    "        \n",
    "The coach made the mistake of assuming that the probability would not change with different players."
   ]
  },
  {
   "cell_type": "markdown",
   "metadata": {},
   "source": [
    "The total number of log-ins to a website for 20 different randomly selected users from 2018 are listed below (which you can treat as a sample from the population of all users of the website in 2018):\n",
    "\n",
    "[10, 25, 12, 35, 14, 18, 16, 15, 22, 10, 9, 11, 49, 20, 15, 9, 18, 19, 20, 20]\n",
    "\n",
    "a) What is the sample mean?\n",
    "\n",
    "b) What is the sample variance? Note: This is not the same as the population variance."
   ]
  },
  {
   "cell_type": "markdown",
   "metadata": {},
   "source": [
    "a) 18.35\n",
    "\n",
    "b) 91.50"
   ]
  },
  {
   "cell_type": "markdown",
   "metadata": {},
   "source": [
    "The website owner from the previous question would like to know, with 95% confidence, an interval that contains the mean number of log-ins of all users of the website in 2019. Without actually calculating the confidence interval, name and briefly explain two techniques you'd use to calculate it."
   ]
  },
  {
   "cell_type": "markdown",
   "metadata": {},
   "source": [
    "You could use either the Central Limit Theorem or Bootstrapping. \n",
    "\n",
    "Central Limit Theorem - you would get the samples mean, number of samples and variance and using a significance level you could calculate the confidence interval.\n",
    "\n",
    "Bootstrapping - you would draw with replacement from a sample and from each you would find the mean. Using those distributions you could find the confidence interval."
   ]
  },
  {
   "cell_type": "code",
   "execution_count": null,
   "metadata": {},
   "outputs": [],
   "source": []
  }
 ],
 "metadata": {
  "kernelspec": {
   "display_name": "Python 3",
   "language": "python",
   "name": "python3"
  },
  "language_info": {
   "codemirror_mode": {
    "name": "ipython",
    "version": 3
   },
   "file_extension": ".py",
   "mimetype": "text/x-python",
   "name": "python",
   "nbconvert_exporter": "python",
   "pygments_lexer": "ipython3",
   "version": "3.7.7"
  }
 },
 "nbformat": 4,
 "nbformat_minor": 4
}
