{
 "cells": [
  {
   "cell_type": "code",
   "execution_count": 30,
   "metadata": {},
   "outputs": [],
   "source": [
    "def max_lists(list1, list2):\n",
    "    '''Compares the elements of list1, and list2 (assumed to be the same\n",
    "    length),and returns the maximum value between the two, for each element.\n",
    "\n",
    "    FOR FULL POINTS DON'T USE IMPORTS.\n",
    "\n",
    "    Parameters\n",
    "    ----------\n",
    "    list1, list2: list, list\n",
    "        (Of the same length)\n",
    "\n",
    "    Returns\n",
    "    -------\n",
    "    list\n",
    "    '''\n",
    "        \n",
    "    return [max(elem1, elem2) for elem1, elem2 in zip(list1, list2)]"
   ]
  },
  {
   "cell_type": "code",
   "execution_count": 31,
   "metadata": {
    "scrolled": true
   },
   "outputs": [
    {
     "name": "stdout",
     "output_type": "stream",
     "text": [
      "[3, 8, 9, 10, 5, 5]\n"
     ]
    }
   ],
   "source": [
    "list1 = [1,4,7,10,2,5]\n",
    "list2 = [3,8,9,2,5,1]\n",
    "print(max_lists(list1,list2))"
   ]
  },
  {
   "cell_type": "code",
   "execution_count": 52,
   "metadata": {},
   "outputs": [],
   "source": [
    "def invert_dictionary(d):\n",
    "    '''\n",
    "    Given a dictionary d, return a new dictionary with d's values\n",
    "    as keys and the value for a given key being\n",
    "    the set of d's keys which shared the same value.\n",
    "\n",
    "    Parameters\n",
    "    ----------\n",
    "    d: dict\n",
    "\n",
    "    Returns\n",
    "    -------\n",
    "    dict\n",
    "        A dictionary of sets of input keys indexing the same input values\n",
    "        indexed by the input values.\n",
    "\n",
    "\n",
    "    >>>invert_dictionary({'a': 2, 'b': 4, 'c': 2})\n",
    "    {2: {'a', 'c'}, 4: {'b'}}\n",
    "    '''\n",
    "    flipped_d = {}\n",
    "    \n",
    "    for key, value in d.items():\n",
    "        if value not in flipped_d:\n",
    "            flipped_d[value] = set()\n",
    "        flipped_d[value].add(key)\n",
    "            \n",
    "    return flipped_d"
   ]
  },
  {
   "cell_type": "code",
   "execution_count": 53,
   "metadata": {},
   "outputs": [
    {
     "data": {
      "text/plain": [
       "{2: {'a', 'c'}, 4: {'b'}}"
      ]
     },
     "execution_count": 53,
     "metadata": {},
     "output_type": "execute_result"
    }
   ],
   "source": [
    "invert_dictionary({'a': 2, 'b': 4, 'c': 2})"
   ]
  },
  {
   "cell_type": "code",
   "execution_count": 3,
   "metadata": {},
   "outputs": [],
   "source": [
    "def matrix_multiplication(A, B):\n",
    "    '''Return the matrix which is the product of matrix A and matrix B\n",
    "    where A and B will be (a) integer valued (b) square matrices\n",
    "    (c) of size n-by-n (d) encoded as lists of lists,  e.g.\n",
    "    A = [[2, 3, 4], [6, 4, 2], [-1, 2, 0]] corresponds to the matrix\n",
    "    | 2  3  4 |\n",
    "    | 6  4  2 |\n",
    "    |-1  2  0 |\n",
    "\n",
    "    YOU MAY NOT USE NUMPY. Write your solution in straight python.\n",
    "\n",
    "    Parameters\n",
    "    ----------\n",
    "    a, b: list of lists of integers, list of lists integers\n",
    "        All inner/outer lists are of length n, so as to construct square\n",
    "        matrices.\n",
    "\n",
    "    Returns\n",
    "    -------\n",
    "    list of lists of integers\n",
    "        The product of a matrix multiplication operation.\n",
    "    '''\n",
    "    output_matrix = [[0 for row in range(len(A))] for col in range(len(B[0]))]\n",
    "    \n",
    "    for i in range(len(A)):\n",
    "        for j in range(len(B[0])):\n",
    "            for k in range(len(B)):\n",
    "                output_matrix[i][j] += A[i][j] * B[k][j]\n",
    "    \n",
    "    return output_matrix"
   ]
  },
  {
   "cell_type": "code",
   "execution_count": 6,
   "metadata": {},
   "outputs": [
    {
     "data": {
      "text/plain": [
       "[[12, 30, 54], [48, 75, 108], [84, 120, 162]]"
      ]
     },
     "execution_count": 6,
     "metadata": {},
     "output_type": "execute_result"
    }
   ],
   "source": [
    "A = [[1,2,3],\n",
    "    [4,5,6],\n",
    "    [7,8,9]]\n",
    "\n",
    "B = [[1,2,3],\n",
    "    [4,5,6],\n",
    "    [7,8,9,]]\n",
    "\n",
    "matrix_multiplication(A,B)"
   ]
  },
  {
   "cell_type": "code",
   "execution_count": 9,
   "metadata": {},
   "outputs": [],
   "source": [
    "def reverse_index(arr, finRow, finCol):\n",
    "    '''\n",
    "    Reverse the row order of \"arr\" (i.e. so the top row is on the bottom)\n",
    "    and return the sub-matrix from coordinate [0, 0] up to\n",
    "    (but not including) [finRow, finCol].\n",
    "\n",
    "    Hint: this can use two steps of slicing, which can be combined into\n",
    "    a one-liner.\n",
    "\n",
    "    FOR FULL POINTS DON'T USE LOOPS OR LIST COMPREHENSIONS.\n",
    "\n",
    "    Parameters\n",
    "    ----------\n",
    "    arr: NumPy array\n",
    "    finRow, finCol: int, int\n",
    "\n",
    "\n",
    "    Returns\n",
    "    -------\n",
    "    NumPy array    \n",
    "      Of an \"upside down\" subset of arr\n",
    "\n",
    "    >>>arr = np.array([[ -4,  -3,  11],\n",
    "                       [ 14,   2, -11],\n",
    "                       [-17,  10,   3]])\n",
    "    >>>reverse_index(arr, 2, 2)\n",
    "    array([[-17, 10],\n",
    "           [ 14,  2]])\n",
    "    '''\n",
    "    \n",
    "    reversed_arr = arr[::-1]\n",
    "    \n",
    "    manipulated_arr = reversed_arr[:finRow, :finCol]\n",
    "    \n",
    "    return manipulated_arr"
   ]
  },
  {
   "cell_type": "code",
   "execution_count": 12,
   "metadata": {},
   "outputs": [],
   "source": [
    "arr = [[ -4,  -3,  11],\n",
    "       [ 14,   2, -11],\n",
    "       [-17,  10,   3]]\n",
    "\n",
    "finRow = 2\n",
    "finCol = 2\n",
    "reverse_index(arr, finRow, finCol)"
   ]
  },
  {
   "cell_type": "code",
   "execution_count": 63,
   "metadata": {},
   "outputs": [],
   "source": [
    "import numpy as np\n",
    "\n",
    "def array_work(rows, cols, scalar, matrixA):\n",
    "    '''\n",
    "    Create matrix of size (rows, cols) with elements initialized to the\n",
    "    scalar value. Right multiply that matrix with the passed matrixA\n",
    "    (i.e. AB, not BA).  Return the result of the multiplication.  You\n",
    "    needn't check for matrix compatibility, but you can accomplish this in\n",
    "    a single line.\n",
    "\n",
    "    Parameters\n",
    "    ----------\n",
    "    rows, cols: int, int\n",
    "        Size of matrix to be created\n",
    "    scalar: int\n",
    "        Value of each element of new matrix\n",
    "    matrixA:\n",
    "\n",
    "    Returns\n",
    "    -------\n",
    "    NumPy array\n",
    "        Result of matrix product of row-by-col matrix of \"scalar\"'s times\n",
    "        matrixA.\n",
    "\n",
    "    E.g., array_work(2, 3, 5, [[3, 4], [5, 6], [7, 8]])\n",
    "           [[3, 4],      [[5, 5, 5],\n",
    "            [5, 6],   *   [5, 5, 5]]\n",
    "            [7, 8]]\n",
    "    '''\n",
    "    \n",
    "    new_arr = np.full((rows,cols),scalar)\n",
    "    \n",
    "    multiplied_arr = np.dot(matrixA, new_arr)\n",
    "\n",
    "    return multiplied_arr"
   ]
  },
  {
   "cell_type": "code",
   "execution_count": 66,
   "metadata": {},
   "outputs": [
    {
     "data": {
      "text/plain": [
       "array([[35, 35, 35],\n",
       "       [55, 55, 55],\n",
       "       [75, 75, 75]])"
      ]
     },
     "execution_count": 66,
     "metadata": {},
     "output_type": "execute_result"
    }
   ],
   "source": [
    "array_work(2, 3, 5, [[3, 4], [5, 6], [7, 8]])"
   ]
  },
  {
   "cell_type": "code",
   "execution_count": 8,
   "metadata": {},
   "outputs": [],
   "source": [
    "import pandas as pd"
   ]
  },
  {
   "cell_type": "code",
   "execution_count": 9,
   "metadata": {},
   "outputs": [],
   "source": [
    "df = pd.read_csv('rent.csv')"
   ]
  },
  {
   "cell_type": "code",
   "execution_count": 10,
   "metadata": {},
   "outputs": [
    {
     "data": {
      "text/html": [
       "<div>\n",
       "<style scoped>\n",
       "    .dataframe tbody tr th:only-of-type {\n",
       "        vertical-align: middle;\n",
       "    }\n",
       "\n",
       "    .dataframe tbody tr th {\n",
       "        vertical-align: top;\n",
       "    }\n",
       "\n",
       "    .dataframe thead th {\n",
       "        text-align: right;\n",
       "    }\n",
       "</style>\n",
       "<table border=\"1\" class=\"dataframe\">\n",
       "  <thead>\n",
       "    <tr style=\"text-align: right;\">\n",
       "      <th></th>\n",
       "      <th>Neighborhood</th>\n",
       "      <th>City</th>\n",
       "      <th>State</th>\n",
       "      <th>med_2011</th>\n",
       "      <th>med_2014</th>\n",
       "    </tr>\n",
       "  </thead>\n",
       "  <tbody>\n",
       "    <tr>\n",
       "      <th>0</th>\n",
       "      <td>Northeast Dallas</td>\n",
       "      <td>Dallas</td>\n",
       "      <td>TX</td>\n",
       "      <td>825.0</td>\n",
       "      <td>985.0</td>\n",
       "    </tr>\n",
       "    <tr>\n",
       "      <th>1</th>\n",
       "      <td>Paradise</td>\n",
       "      <td>Las Vegas</td>\n",
       "      <td>NV</td>\n",
       "      <td>900.0</td>\n",
       "      <td>1100.0</td>\n",
       "    </tr>\n",
       "    <tr>\n",
       "      <th>2</th>\n",
       "      <td>Maryvale</td>\n",
       "      <td>Phoenix</td>\n",
       "      <td>AZ</td>\n",
       "      <td>795.0</td>\n",
       "      <td>850.0</td>\n",
       "    </tr>\n",
       "    <tr>\n",
       "      <th>3</th>\n",
       "      <td>Upper West Side</td>\n",
       "      <td>New York</td>\n",
       "      <td>NY</td>\n",
       "      <td>2795.0</td>\n",
       "      <td>3300.0</td>\n",
       "    </tr>\n",
       "    <tr>\n",
       "      <th>4</th>\n",
       "      <td>South Los Angeles</td>\n",
       "      <td>Los Angeles</td>\n",
       "      <td>CA</td>\n",
       "      <td>1150.0</td>\n",
       "      <td>1400.0</td>\n",
       "    </tr>\n",
       "  </tbody>\n",
       "</table>\n",
       "</div>"
      ],
      "text/plain": [
       "        Neighborhood         City State  med_2011  med_2014\n",
       "0   Northeast Dallas       Dallas    TX     825.0     985.0\n",
       "1           Paradise    Las Vegas    NV     900.0    1100.0\n",
       "2           Maryvale      Phoenix    AZ     795.0     850.0\n",
       "3    Upper West Side     New York    NY    2795.0    3300.0\n",
       "4  South Los Angeles  Los Angeles    CA    1150.0    1400.0"
      ]
     },
     "execution_count": 10,
     "metadata": {},
     "output_type": "execute_result"
    }
   ],
   "source": [
    "df.head()"
   ]
  },
  {
   "cell_type": "code",
   "execution_count": 11,
   "metadata": {},
   "outputs": [],
   "source": [
    "def pandas_add_increase_column(df):\n",
    "    '''Adds a column to the DataFrame called 'Increase' which contains the\n",
    "    amount that the median rent increased by from 2011 to 2014.\n",
    "\n",
    "    Parameters\n",
    "    ----------\n",
    "    df: Pandas DataFrame\n",
    "\n",
    "    Returns\n",
    "    -------\n",
    "    None\n",
    "    '''\n",
    "    \n",
    "    df[\"Increase\"] = df[\"med_2014\"] - df[\"med_2011\"]\n",
    "    \n",
    "    return None"
   ]
  },
  {
   "cell_type": "code",
   "execution_count": 7,
   "metadata": {},
   "outputs": [],
   "source": [
    "def pandas_max_rent(df):\n",
    "    '''Returns a new pandas DataFrame that contains every city and the highest\n",
    "    median rent from that city for 2011 and 2014.\n",
    "\n",
    "    Note that city names are not unique so the state is tracked as well.\n",
    "    For example, Portland, ME and Portland, OR are recognized as different.\n",
    "\n",
    "    Parameters\n",
    "    ----------\n",
    "    df: Pandas DataFrame\n",
    "\n",
    "    Returns\n",
    "    -------\n",
    "    Pandas DataFrame:\n",
    "        Containing the columns: City, State, med_2011, med_2014\n",
    "    '''\n",
    "    new_df = df[[\"City\",\"State\", \"med_2011\", \"med_2014\"]].groupby([\"City\",\"State\"]).max()\n",
    "    \n",
    "    \n",
    "    return new_df "
   ]
  },
  {
   "cell_type": "markdown",
   "metadata": {},
   "source": [
    "a) Please give an example of a mutable and immutable data type. (2 pts)\n",
    "\n",
    "b) What will be displayed when b is printed in the code below? (1 pt)\n",
    "\n",
    "In[1] a = [1, 'a', [2, 3], 4.5]\n",
    "\n",
    "In[2] b = a\n",
    "\n",
    "In[3] a[0] = -0.1\n",
    "\n",
    "In[4] print(b)"
   ]
  },
  {
   "cell_type": "markdown",
   "metadata": {},
   "source": [
    "a) mutable - lists\n",
    "   immutable - tuples\n",
    "  \n",
    "b) b = [-0.1, 'a', [2,3], 3, 5]"
   ]
  },
  {
   "cell_type": "markdown",
   "metadata": {},
   "source": [
    "a) What is Git, and why do software developers use it? (1 pt)\n",
    "\n",
    "b) What is the 'staging area', or 'index' in git? (1 pt)\n",
    "\n",
    "c) What does the command 'git commit' do? (1 pt)"
   ]
  },
  {
   "cell_type": "markdown",
   "metadata": {},
   "source": [
    "a) Git is a tool used for developing code individually or as a team. It provides an easy way to transfer code from a local machine to a collaborative space and back again.\n",
    "\n",
    "b) The staging area or index is the area code lies in prior to being committed. \n",
    "\n",
    "c) 'git commit' allows you to comment on what changes were made so that you are able to see what changed in your repository. It also moves the code from the staging area to a form for it to be pushed to github."
   ]
  },
  {
   "cell_type": "code",
   "execution_count": null,
   "metadata": {},
   "outputs": [],
   "source": []
  }
 ],
 "metadata": {
  "kernelspec": {
   "display_name": "Python 3",
   "language": "python",
   "name": "python3"
  },
  "language_info": {
   "codemirror_mode": {
    "name": "ipython",
    "version": 3
   },
   "file_extension": ".py",
   "mimetype": "text/x-python",
   "name": "python",
   "nbconvert_exporter": "python",
   "pygments_lexer": "ipython3",
   "version": "3.7.7"
  }
 },
 "nbformat": 4,
 "nbformat_minor": 4
}
